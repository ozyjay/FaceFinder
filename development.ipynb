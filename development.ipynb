{
 "cells": [
  {
   "metadata": {},
   "cell_type": "markdown",
   "source": [
    "# Real-time Emotion and Age Detection from Webcam Feed\n",
    "\n",
    "This notebook demonstrates how to use pre-trained models from Hugging Face and FastAI for real-time emotion and age detection using a webcam feed.\n",
    "\n",
    "## Importing Libraries\n",
    "\n",
    "First, we need to import the necessary libraries.\n"
   ],
   "id": "b3fca4eb9624433d"
  },
  {
   "metadata": {
    "ExecuteTime": {
     "end_time": "2024-07-23T17:04:26.216638Z",
     "start_time": "2024-07-23T17:04:26.213347Z"
    }
   },
   "cell_type": "code",
   "source": [
    "import cv2\n",
    "import torch\n",
    "import numpy as np\n",
    "import logging\n",
    "import os\n",
    "from collections import deque, Counter\n",
    "from fastai.vision.all import *\n",
    "from transformers import AutoModelForImageClassification, AutoImageProcessor\n",
    "\n",
    "# Set up logging\n",
    "logging.basicConfig(level=logging.INFO, format='%(asctime)s - %(levelname)s - %(message)s')\n"
   ],
   "id": "7be6f00b1f85eb5d",
   "outputs": [],
   "execution_count": 71
  },
  {
   "metadata": {},
   "cell_type": "markdown",
   "source": [
    "## Setting Up the Device\n",
    "\n",
    "Ensure PyTorch is using the GPU if available.\n"
   ],
   "id": "624666692439e5f2"
  },
  {
   "metadata": {
    "ExecuteTime": {
     "end_time": "2024-07-23T17:04:26.241846Z",
     "start_time": "2024-07-23T17:04:26.238841Z"
    }
   },
   "cell_type": "code",
   "source": [
    "# Ensure PyTorch is using GPU if available\n",
    "device = torch.device(\"cuda\" if torch.cuda.is_available() else \"cpu\")\n",
    "logging.info(f\"Using device: {device}\")"
   ],
   "id": "4b31c5097833e4a8",
   "outputs": [
    {
     "name": "stderr",
     "output_type": "stream",
     "text": [
      "2024-07-24 03:04:26,239 - INFO - Using device: cuda\n"
     ]
    }
   ],
   "execution_count": 72
  },
  {
   "metadata": {},
   "cell_type": "markdown",
   "source": [
    "## Loading Pre-trained Models and Processors\n",
    "\n",
    "Load the pre-trained emotion and age detection models along with their respective processors from Hugging Face.\n"
   ],
   "id": "cf30bdc88d40a1a2"
  },
  {
   "metadata": {
    "ExecuteTime": {
     "end_time": "2024-07-23T17:04:28.692975Z",
     "start_time": "2024-07-23T17:04:26.242851Z"
    }
   },
   "cell_type": "code",
   "source": [
    "# Load the pre-trained emotion model and image processor from Hugging Face\n",
    "emotion_model_name = \"trpakov/vit-face-expression\"\n",
    "logging.info(f\"Loading emotion model: {emotion_model_name}\")\n",
    "emotion_model = AutoModelForImageClassification.from_pretrained(emotion_model_name).to(device)\n",
    "emotion_processor = AutoImageProcessor.from_pretrained(emotion_model_name, use_fast=True)\n",
    "\n",
    "# Load the pre-trained age detection model and processor from Hugging Face\n",
    "age_model_name = \"nateraw/vit-age-classifier\"\n",
    "logging.info(f\"Loading age model: {age_model_name}\")\n",
    "age_model = AutoModelForImageClassification.from_pretrained(age_model_name).to(device)\n",
    "age_processor = AutoImageProcessor.from_pretrained(age_model_name, use_fast=True)\n"
   ],
   "id": "f3922c5d2544aed5",
   "outputs": [
    {
     "name": "stderr",
     "output_type": "stream",
     "text": [
      "2024-07-24 03:04:26,243 - INFO - Loading emotion model: trpakov/vit-face-expression\n",
      "2024-07-24 03:04:27,044 - INFO - Loading age model: nateraw/vit-age-classifier\n"
     ]
    }
   ],
   "execution_count": 73
  },
  {
   "metadata": {},
   "cell_type": "markdown",
   "source": [
    "## Setting Up a Rolling Window for Emotions\n",
    "\n",
    "Define a rolling window size and initialize a deque to store detected emotions.\n"
   ],
   "id": "115947bbe6cd7d41"
  },
  {
   "metadata": {
    "ExecuteTime": {
     "end_time": "2024-07-23T17:04:28.696192Z",
     "start_time": "2024-07-23T17:04:28.692975Z"
    }
   },
   "cell_type": "code",
   "source": [
    "# Define the rolling window size\n",
    "ROLLING_WINDOW_SIZE = 15\n",
    "\n",
    "# Initialize deques to store detected emotions and ages\n",
    "emotion_window = deque(maxlen=ROLLING_WINDOW_SIZE)\n",
    "age_window = deque(maxlen=ROLLING_WINDOW_SIZE)\n"
   ],
   "id": "92d78c06b0b57e9b",
   "outputs": [],
   "execution_count": 74
  },
  {
   "metadata": {},
   "cell_type": "markdown",
   "source": [
    "## Loading Haar Cascade for Face Detection\n",
    "\n",
    "Load OpenCV's pre-trained Haar Cascade for face detection.\n"
   ],
   "id": "194136ef7aee2f52"
  },
  {
   "metadata": {
    "ExecuteTime": {
     "end_time": "2024-07-23T17:04:28.718020Z",
     "start_time": "2024-07-23T17:04:28.697197Z"
    }
   },
   "cell_type": "code",
   "source": [
    "# Load OpenCV's pre-trained Haar Cascade for face detection\n",
    "face_cascade = cv2.CascadeClassifier(cv2.data.haarcascades + 'haarcascade_frontalface_default.xml')\n"
   ],
   "id": "fd1917d44701ccbe",
   "outputs": [],
   "execution_count": 75
  },
  {
   "metadata": {},
   "cell_type": "markdown",
   "source": [
    "## Defining Helper Functions\n",
    "\n",
    "Define functions for detecting blue images, getting the active camera, and processing faces.\n"
   ],
   "id": "df36dc370ee5ac28"
  },
  {
   "metadata": {
    "ExecuteTime": {
     "end_time": "2024-07-23T17:04:28.722437Z",
     "start_time": "2024-07-23T17:04:28.718020Z"
    }
   },
   "cell_type": "code",
   "source": [
    "def is_image_blue(frame, blue_threshold=50):\n",
    "    hsv = cv2.cvtColor(frame, cv2.COLOR_BGR2HSV)\n",
    "    lower_blue = np.array([100, 150, 0])\n",
    "    upper_blue = np.array([140, 255, 255])\n",
    "    mask = cv2.inRange(hsv, lower_blue, upper_blue)\n",
    "    blue_area = np.sum(mask > 0)\n",
    "    total_area = mask.shape[0] * mask.shape[1]\n",
    "    blue_percentage = (blue_area / total_area) * 100\n",
    "    return blue_percentage > blue_threshold\n",
    "\n",
    "CAMERA_INDEX_FILE = \"camera_index.txt\"\n",
    "\n",
    "def save_camera_index(index):\n",
    "    with open(CAMERA_INDEX_FILE, \"w\") as f:\n",
    "        f.write(str(index))\n",
    "\n",
    "def load_camera_index():\n",
    "    if os.path.exists(CAMERA_INDEX_FILE):\n",
    "        with open(CAMERA_INDEX_FILE, \"r\") as f:\n",
    "            return int(f.read())\n",
    "    return None\n",
    "\n",
    "def get_active_camera(max_cameras=10, blue_threshold=50):\n",
    "    logging.info(f\"Checking up to {max_cameras} cameras for activity...\")\n",
    "    \n",
    "    recent_camera_index = load_camera_index()\n",
    "    if recent_camera_index is not None:\n",
    "        logging.info(f\"Active camera found at recent index: {recent_camera_index}\")\n",
    "        return recent_camera_index\n",
    "    \n",
    "    for camera_index in range(max_cameras):\n",
    "        logging.info(f\"Checking camera index: {camera_index}\")\n",
    "        cap = cv2.VideoCapture(camera_index)\n",
    "        if cap.isOpened():\n",
    "            ret, frame = cap.read()\n",
    "            cap.release()\n",
    "            if ret:\n",
    "                if not is_image_blue(frame, blue_threshold):\n",
    "                    logging.info(f\"Active camera found at index: {camera_index}\")\n",
    "                    save_camera_index(camera_index)\n",
    "                    return camera_index\n",
    "    logging.warning(\"No active camera found that is not predominantly blue.\")\n",
    "    return None\n"
   ],
   "id": "8b7a3828b85264cb",
   "outputs": [],
   "execution_count": 76
  },
  {
   "metadata": {},
   "cell_type": "markdown",
   "source": [
    "## Processing Faces\n",
    "\n",
    "Define a function to process each face in the frame for emotion and age detection.\n"
   ],
   "id": "380993e71a050aea"
  },
  {
   "metadata": {
    "ExecuteTime": {
     "end_time": "2024-07-23T17:04:28.726891Z",
     "start_time": "2024-07-23T17:04:28.722437Z"
    }
   },
   "cell_type": "code",
   "source": [
    "EMOTION_SCORE_THRESHOLD = 0.8\n",
    "AGE_SCORE_THRESHOLD = 0.5\n",
    "\n",
    "def process_face(face_img, emotion_model, emotion_processor, age_model, age_processor):\n",
    "    face_img_rgb = cv2.cvtColor(face_img, cv2.COLOR_BGR2RGB)\n",
    "    face_img_rgb = PILImage.create(face_img_rgb)\n",
    "    emotion_inputs = emotion_processor(images=[face_img_rgb], return_tensors=\"pt\").to(device)\n",
    "    \n",
    "    with torch.no_grad():\n",
    "        emotion_outputs = emotion_model(**emotion_inputs)\n",
    "        emotion_probs = torch.nn.functional.softmax(emotion_outputs.logits, dim=-1)\n",
    "        predicted_emotion_class = torch.argmax(emotion_probs, dim=-1)\n",
    "    \n",
    "    emotion_labels = emotion_model.config.id2label\n",
    "    emotion = emotion_labels[predicted_emotion_class.item()]\n",
    "    emotion_score = emotion_probs[0, predicted_emotion_class].item()\n",
    "    \n",
    "    age_inputs = age_processor(images=[face_img_rgb], return_tensors=\"pt\").to(device)\n",
    "    \n",
    "    with torch.no_grad():\n",
    "        age_outputs = age_model(**age_inputs)\n",
    "        age_probs = torch.nn.functional.softmax(age_outputs.logits, dim=-1)\n",
    "        predicted_age_class = torch.argmax(age_probs, dim=-1)\n",
    "    \n",
    "    age_labels = age_model.config.id2label\n",
    "    age = age_labels[predicted_age_class.item()]\n",
    "    age_score = age_probs[0, predicted_age_class].item()\n",
    "    \n",
    "    # Only append and process emotion and age if the scores are 80% or more\n",
    "    \n",
    "    most_common_emotion = None\n",
    "    most_common_age = None\n",
    "    \n",
    "    if emotion_score >= EMOTION_SCORE_THRESHOLD:\n",
    "        emotion_window.append(emotion)\n",
    "        most_common_emotion = Counter(emotion_window).most_common(1)[0][0]\n",
    "\n",
    "    if age_score >= AGE_SCORE_THRESHOLD:\n",
    "        age_window.append(age)\n",
    "        most_common_age = Counter(age_window).most_common(1)[0][0]\n",
    "    \n",
    "    \n",
    "    return most_common_emotion, emotion_score, most_common_age, age_score"
   ],
   "id": "fa968dd2cd3f7236",
   "outputs": [],
   "execution_count": 77
  },
  {
   "metadata": {},
   "cell_type": "markdown",
   "source": [
    "## Processing Frames\n",
    "\n",
    "Define a function to process each frame from the webcam feed.\n"
   ],
   "id": "5576adc268003fbb"
  },
  {
   "metadata": {
    "ExecuteTime": {
     "end_time": "2024-07-23T17:04:28.731230Z",
     "start_time": "2024-07-23T17:04:28.726891Z"
    }
   },
   "cell_type": "code",
   "source": [
    "FONT_SCALE = 0.5\n",
    "\n",
    "def process_frame(frame, emotion_model, emotion_processor, age_model, age_processor):\n",
    "    gray = cv2.cvtColor(frame, cv2.COLOR_BGR2GRAY)\n",
    "    faces = face_cascade.detectMultiScale(gray, scaleFactor=1.1, minNeighbors=5, minSize=(30, 30))\n",
    "    face_count = len(faces)\n",
    "    \n",
    "    for (x, y, w, h) in faces:\n",
    "        cv2.rectangle(frame, (x, y), (x + w, y + h), (120,120,120), 2)\n",
    "        face_img = frame[y:y + h, x:x + w]\n",
    "        most_common_emotion, emotion_score, most_common_age, age_score = process_face(face_img, emotion_model, emotion_processor, age_model, age_processor)\n",
    "        \n",
    "        if most_common_emotion and most_common_age:\n",
    "            cv2.putText(frame, f'Emotion: {most_common_emotion} ({emotion_score:.2f})', (x, y - 30), cv2.FONT_HERSHEY_DUPLEX, FONT_SCALE, (255, 0, 0), 2)\n",
    "            cv2.putText(frame, f'Age: {most_common_age} ({age_score:.2f})', (x, y - 10), cv2.FONT_HERSHEY_DUPLEX, FONT_SCALE, (0, 0, 255), 2)\n",
    "    \n",
    "    cv2.putText(frame, f'Whole Faces: {face_count}', (10, 30), cv2.FONT_HERSHEY_DUPLEX, FONT_SCALE, (255, 255, 255), 2)\n",
    "    return frame\n"
   ],
   "id": "b662022f3a745b31",
   "outputs": [],
   "execution_count": 78
  },
  {
   "metadata": {},
   "cell_type": "markdown",
   "source": "",
   "id": "132df949886e180f"
  },
  {
   "metadata": {},
   "cell_type": "markdown",
   "source": [
    "## Main Function\n",
    "\n",
    "Define the main function to capture and process frames from the active camera.\n"
   ],
   "id": "fe20bce99b8266e6"
  },
  {
   "metadata": {
    "ExecuteTime": {
     "end_time": "2024-07-23T17:04:28.734799Z",
     "start_time": "2024-07-23T17:04:28.731230Z"
    }
   },
   "cell_type": "code",
   "source": [
    "def main():\n",
    "    active_camera = get_active_camera()\n",
    "    if active_camera is None:\n",
    "        logging.error(\"No active camera found that is not predominantly blue.\")\n",
    "        return\n",
    "    \n",
    "    cap = cv2.VideoCapture(active_camera)\n",
    "    cv2.namedWindow('Webcam', cv2.WINDOW_NORMAL)\n",
    "    cv2.setWindowProperty('Webcam', cv2.WND_PROP_TOPMOST, 1)\n",
    "    \n",
    "    while True:\n",
    "        ret, frame = cap.read()\n",
    "        if not ret:\n",
    "            break\n",
    "        processed_frame = process_frame(frame, emotion_model, emotion_processor, age_model, age_processor)\n",
    "        cv2.imshow('Webcam', processed_frame)\n",
    "        if cv2.waitKey(1) & 0xFF == ord('q'):\n",
    "            break\n",
    "    \n",
    "    cap.release()\n",
    "    cv2.destroyAllWindows()\n"
   ],
   "id": "f6497aa57cdf5ca1",
   "outputs": [],
   "execution_count": 79
  },
  {
   "metadata": {},
   "cell_type": "markdown",
   "source": [
    "## Run the Application\n",
    "\n",
    "Execute the main function to start the webcam feed and perform real-time emotion and age detection.\n"
   ],
   "id": "75641752c1de2cf"
  },
  {
   "metadata": {
    "ExecuteTime": {
     "end_time": "2024-07-23T17:05:07.338308Z",
     "start_time": "2024-07-23T17:04:28.734799Z"
    }
   },
   "cell_type": "code",
   "source": [
    "if __name__ == '__main__':\n",
    "    main()\n"
   ],
   "id": "42a92a125d9925d",
   "outputs": [
    {
     "name": "stderr",
     "output_type": "stream",
     "text": [
      "2024-07-24 03:04:28,736 - INFO - Checking up to 10 cameras for activity...\n",
      "2024-07-24 03:04:28,737 - INFO - Active camera found at recent index: 4\n"
     ]
    }
   ],
   "execution_count": 80
  }
 ],
 "metadata": {
  "kernelspec": {
   "display_name": "Python 3",
   "language": "python",
   "name": "python3"
  },
  "language_info": {
   "codemirror_mode": {
    "name": "ipython",
    "version": 2
   },
   "file_extension": ".py",
   "mimetype": "text/x-python",
   "name": "python",
   "nbconvert_exporter": "python",
   "pygments_lexer": "ipython2",
   "version": "2.7.6"
  }
 },
 "nbformat": 4,
 "nbformat_minor": 5
}
